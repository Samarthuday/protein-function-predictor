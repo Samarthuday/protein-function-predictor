{
  "cells": [
    {
      "cell_type": "code",
      "execution_count": null,
      "metadata": {
        "colab": {
          "base_uri": "https://localhost:8080/"
        },
        "id": "_BN8Fa0Cq_TB",
        "outputId": "7258b6d3-286f-4554-ac71-07f8a9bec2e9"
      },
      "outputs": [
        {
          "output_type": "stream",
          "name": "stdout",
          "text": [
            "Collecting fair-esm\n",
            "  Downloading fair_esm-2.0.0-py3-none-any.whl.metadata (37 kB)\n",
            "Downloading fair_esm-2.0.0-py3-none-any.whl (93 kB)\n",
            "\u001b[?25l   \u001b[90m━━━━━━━━━━━━━━━━━━━━━━━━━━━━━━━━━━━━━━━━\u001b[0m \u001b[32m0.0/93.1 kB\u001b[0m \u001b[31m?\u001b[0m eta \u001b[36m-:--:--\u001b[0m\r\u001b[2K   \u001b[90m━━━━━━━━━━━━━━━━━━━━━━━━━━━━━━━━━━━━━━━━\u001b[0m \u001b[32m93.1/93.1 kB\u001b[0m \u001b[31m4.3 MB/s\u001b[0m eta \u001b[36m0:00:00\u001b[0m\n",
            "\u001b[?25hInstalling collected packages: fair-esm\n",
            "Successfully installed fair-esm-2.0.0\n"
          ]
        }
      ],
      "source": [
        "!pip install fair-esm"
      ]
    },
    {
      "cell_type": "code",
      "execution_count": null,
      "metadata": {
        "colab": {
          "base_uri": "https://localhost:8080/"
        },
        "id": "ZLFP05Vbne1G",
        "outputId": "2f1fefd7-ed8c-44ef-d028-632702e312fe"
      },
      "outputs": [
        {
          "output_type": "stream",
          "name": "stdout",
          "text": [
            "class list: ['1.1' '1.10' '1.11' '1.12' '1.13' '1.14' '1.15' '1.16' '1.17' '1.18'\n",
            " '1.19' '1.2' '1.20' '1.21' '1.23' '1.3' '1.4' '1.5' '1.6' '1.7' '1.8'\n",
            " '1.9' '1.97' '2.1' '2.10' '2.2' '2.3' '2.4' '2.5' '2.6' '2.7' '2.8' '2.9'\n",
            " '3.1' '3.10' '3.11' '3.12' '3.13' '3.2' '3.3' '3.4' '3.5' '3.6' '3.7'\n",
            " '3.8' '3.9' '4.1' '4.2' '4.3' '4.4' '4.5' '4.6' '4.7' '4.8' '4.98' '4.99'\n",
            " '5.1' '5.2' '5.3' '5.4' '5.5' '5.6' '5.99' '6.1' '6.2' '6.3' '6.4' '6.5'\n",
            " '6.6' '6.7' '7.1' '7.2' '7.3' '7.4' '7.5' '7.6']\n",
            "y shape: (234046, 76)\n"
          ]
        }
      ],
      "source": [
        "import pandas as pd\n",
        "from sklearn.preprocessing import MultiLabelBinarizer\n",
        "import ast\n",
        "\n",
        "cleaned_train = pd.read_csv(\"/content/drive/MyDrive/cleaned_train_final.csv\")\n",
        "\n",
        "cleaned_train['ec_list'] = cleaned_train['ec_list'].apply(ast.literal_eval)\n",
        "\n",
        "X = cleaned_train[\"Sequence\"]\n",
        "\n",
        "mlb = MultiLabelBinarizer()\n",
        "\n",
        "y = mlb.fit_transform(cleaned_train['ec_list'])\n",
        "\n",
        "print(\"class list:\", mlb.classes_)\n",
        "print(\"y shape:\", y.shape)"
      ]
    },
    {
      "cell_type": "code",
      "execution_count": null,
      "metadata": {
        "id": "wPNZXhDlpPoR"
      },
      "outputs": [],
      "source": [
        "# ✅ 1. 라이브러리 로드\n",
        "import torch\n",
        "import esm\n",
        "import pandas as pd\n",
        "import numpy as np\n",
        "from tqdm import tqdm\n",
        "from sklearn.model_selection import train_test_split\n",
        "from sklearn.preprocessing import MultiLabelBinarizer\n",
        "from sklearn.metrics import f1_score\n",
        "from sklearn.neural_network import MLPClassifier\n",
        "import ast\n",
        "\n",
        "# ✅ 2. 데이터 로딩 및 전처리\n",
        "df = pd.read_csv(\"/content/drive/MyDrive/cleaned_train_final.csv\")\n",
        "df['ec_list'] = df['ec_list'].apply(ast.literal_eval)\n",
        "\n",
        "mlb = MultiLabelBinarizer()\n",
        "y = mlb.fit_transform(df['ec_list'])\n",
        "\n",
        "X_train, X_test, y_train, y_test = train_test_split(df['Sequence'].tolist(), y, test_size=0.2, random_state=42)\n"
      ]
    },
    {
      "cell_type": "code",
      "execution_count": null,
      "metadata": {
        "id": "eGdmyf9TujJU"
      },
      "outputs": [],
      "source": [
        "def truncate_seq(seq, max_len=512):\n",
        "    return seq[:max_len]\n",
        "\n",
        "# 적용\n",
        "X_train = [truncate_seq(s) for s in X_train]\n",
        "X_test = [truncate_seq(s) for s in X_test]\n"
      ]
    },
    {
      "cell_type": "code",
      "execution_count": null,
      "metadata": {
        "colab": {
          "base_uri": "https://localhost:8080/"
        },
        "id": "IGo9hwm0nunG",
        "outputId": "c95c2469-23fd-4df4-f5b4-a651ecfc8b6d"
      },
      "outputs": [
        {
          "output_type": "stream",
          "name": "stderr",
          "text": [
            "Downloading: \"https://dl.fbaipublicfiles.com/fair-esm/models/esm2_t6_8M_UR50D.pt\" to /root/.cache/torch/hub/checkpoints/esm2_t6_8M_UR50D.pt\n",
            "Downloading: \"https://dl.fbaipublicfiles.com/fair-esm/regression/esm2_t6_8M_UR50D-contact-regression.pt\" to /root/.cache/torch/hub/checkpoints/esm2_t6_8M_UR50D-contact-regression.pt\n"
          ]
        },
        {
          "output_type": "execute_result",
          "data": {
            "text/plain": [
              "ESM2(\n",
              "  (embed_tokens): Embedding(33, 320, padding_idx=1)\n",
              "  (layers): ModuleList(\n",
              "    (0-5): 6 x TransformerLayer(\n",
              "      (self_attn): MultiheadAttention(\n",
              "        (k_proj): Linear(in_features=320, out_features=320, bias=True)\n",
              "        (v_proj): Linear(in_features=320, out_features=320, bias=True)\n",
              "        (q_proj): Linear(in_features=320, out_features=320, bias=True)\n",
              "        (out_proj): Linear(in_features=320, out_features=320, bias=True)\n",
              "        (rot_emb): RotaryEmbedding()\n",
              "      )\n",
              "      (self_attn_layer_norm): LayerNorm((320,), eps=1e-05, elementwise_affine=True)\n",
              "      (fc1): Linear(in_features=320, out_features=1280, bias=True)\n",
              "      (fc2): Linear(in_features=1280, out_features=320, bias=True)\n",
              "      (final_layer_norm): LayerNorm((320,), eps=1e-05, elementwise_affine=True)\n",
              "    )\n",
              "  )\n",
              "  (contact_head): ContactPredictionHead(\n",
              "    (regression): Linear(in_features=120, out_features=1, bias=True)\n",
              "    (activation): Sigmoid()\n",
              "  )\n",
              "  (emb_layer_norm_after): LayerNorm((320,), eps=1e-05, elementwise_affine=True)\n",
              "  (lm_head): RobertaLMHead(\n",
              "    (dense): Linear(in_features=320, out_features=320, bias=True)\n",
              "    (layer_norm): LayerNorm((320,), eps=1e-05, elementwise_affine=True)\n",
              "  )\n",
              ")"
            ]
          },
          "metadata": {},
          "execution_count": 5
        }
      ],
      "source": [
        "\n",
        "# ✅ 3. ESM2 로드 및 임베딩 함수\n",
        "device = torch.device(\"cuda\" if torch.cuda.is_available() else \"cpu\")\n",
        "model, alphabet = esm.pretrained.esm2_t6_8M_UR50D()\n",
        "model = model.to(device)\n",
        "batch_converter = alphabet.get_batch_converter()\n",
        "model.eval()"
      ]
    },
    {
      "cell_type": "code",
      "execution_count": null,
      "metadata": {
        "id": "PAaAlGrIrvmc"
      },
      "outputs": [],
      "source": [
        "def compute_embeddings(seqs, batch_size=64):\n",
        "    all_embeddings = []\n",
        "    with torch.no_grad():\n",
        "        for i in tqdm(range(0, len(seqs), batch_size)):\n",
        "            batch_seqs = [(str(i), seq) for i, seq in enumerate(seqs[i:i+batch_size])]\n",
        "            _, _, batch_tokens = batch_converter(batch_seqs)\n",
        "            batch_tokens = batch_tokens.to(device)\n",
        "            results = model(batch_tokens, repr_layers=[6], return_contacts=False)\n",
        "            emb = results[\"representations\"][6][:, 0, :].cpu().numpy()  # CLS token\n",
        "            all_embeddings.append(emb)\n",
        "    return np.vstack(all_embeddings)"
      ]
    },
    {
      "cell_type": "code",
      "execution_count": null,
      "metadata": {
        "colab": {
          "base_uri": "https://localhost:8080/"
        },
        "id": "h1EREyEJneye",
        "outputId": "e13eb691-0602-425a-c88f-db6c820ec2e4"
      },
      "outputs": [
        {
          "output_type": "stream",
          "name": "stderr",
          "text": [
            "100%|██████████| 2926/2926 [2:36:21<00:00,  3.21s/it]\n",
            "100%|██████████| 732/732 [41:26<00:00,  3.40s/it]\n"
          ]
        }
      ],
      "source": [
        "# ✅ 4. 임베딩 추출\n",
        "X_train_emb = compute_embeddings(X_train, batch_size=64)\n",
        "X_test_emb  = compute_embeddings(X_test, batch_size=64)"
      ]
    },
    {
      "cell_type": "code",
      "execution_count": null,
      "metadata": {
        "id": "fK6bQuGaudhV"
      },
      "outputs": [],
      "source": [
        "# 👉 저장\n",
        "np.save(\"/content/X_train_emb.npy\", X_train_emb)\n",
        "np.save(\"/content/X_test_emb.npy\", X_test_emb)\n",
        "np.save(\"/content/y_train.npy\", y_train)\n",
        "np.save(\"/content/y_test.npy\", y_test)\n",
        "\n"
      ]
    },
    {
      "cell_type": "code",
      "source": [],
      "metadata": {
        "id": "2kKv6jLLGnRn"
      },
      "execution_count": null,
      "outputs": []
    },
    {
      "cell_type": "code",
      "source": [
        "#(원하면 csv로도 저장 가능)\n",
        "pd.DataFrame(X_train_emb).to_csv(\"/content/X_train_emb.csv\", index=False)\n",
        "pd.DataFrame(X_test_emb).to_csv(\"/content/X_test_emb.csv\", index=False)\n"
      ],
      "metadata": {
        "id": "q4c8TIx-KoJV"
      },
      "execution_count": null,
      "outputs": []
    },
    {
      "cell_type": "code",
      "source": [],
      "metadata": {
        "id": "61VbuGX_UPOV"
      },
      "execution_count": null,
      "outputs": []
    },
    {
      "cell_type": "code",
      "source": [],
      "metadata": {
        "id": "v32X_Y_SUPL9"
      },
      "execution_count": null,
      "outputs": []
    },
    {
      "cell_type": "code",
      "source": [],
      "metadata": {
        "id": "VSOAC1R2UPJZ"
      },
      "execution_count": null,
      "outputs": []
    },
    {
      "cell_type": "code",
      "source": [],
      "metadata": {
        "id": "jfSXO4zzUPGg"
      },
      "execution_count": null,
      "outputs": []
    },
    {
      "cell_type": "code",
      "source": [],
      "metadata": {
        "id": "ekNCpQMaUPDB"
      },
      "execution_count": null,
      "outputs": []
    },
    {
      "cell_type": "code",
      "source": [],
      "metadata": {
        "id": "S6h7KIB9UPA_"
      },
      "execution_count": null,
      "outputs": []
    },
    {
      "cell_type": "code",
      "source": [
        "import torch\n",
        "import pandas as pd\n",
        "import numpy as np\n",
        "from tqdm import tqdm\n",
        "from sklearn.model_selection import train_test_split\n",
        "from sklearn.preprocessing import MultiLabelBinarizer\n",
        "from sklearn.metrics import f1_score\n",
        "from sklearn.neural_network import MLPClassifier\n",
        "import ast"
      ],
      "metadata": {
        "id": "ljq6rvnCTVTJ"
      },
      "execution_count": null,
      "outputs": []
    },
    {
      "cell_type": "code",
      "execution_count": null,
      "metadata": {
        "id": "0yB7mpvjueP9"
      },
      "outputs": [],
      "source": [
        "X_train_emb = np.load(\"/content/X_train_emb.npy\")\n",
        "X_test_emb = np.load(\"/content/X_test_emb.npy\")\n",
        "y_train = np.load(\"/content/y_train.npy\")\n",
        "y_test = np.load(\"/content/y_test.npy\")\n"
      ]
    },
    {
      "cell_type": "code",
      "source": [
        "X_train_emb.shape, X_test_emb.shape"
      ],
      "metadata": {
        "colab": {
          "base_uri": "https://localhost:8080/"
        },
        "id": "Pwx8t96wGppb",
        "outputId": "6af2b317-909e-4573-d033-26c931914e20"
      },
      "execution_count": null,
      "outputs": [
        {
          "output_type": "execute_result",
          "data": {
            "text/plain": [
              "((187236, 320), (46810, 320))"
            ]
          },
          "metadata": {},
          "execution_count": 12
        }
      ]
    },
    {
      "cell_type": "code",
      "source": [],
      "metadata": {
        "id": "HOP4irGnmztx"
      },
      "execution_count": null,
      "outputs": []
    },
    {
      "cell_type": "code",
      "source": [
        "from sklearn.neural_network import MLPClassifier\n",
        "import matplotlib.pyplot as plt\n",
        "\n",
        "# 1. 모델 정의\n",
        "mlp = MLPClassifier(\n",
        "    hidden_layer_sizes=(256,),\n",
        "    max_iter=200,\n",
        "    early_stopping=True,           # 내부적으로 검증 손실도 기록\n",
        "    validation_fraction=0.2,       # 10%를 validation에 사용\n",
        "    random_state=42,\n",
        "    verbose=False\n",
        ")\n",
        "\n",
        "# 2. 학습\n",
        "mlp.fit(X_train_emb, y_train)\n",
        "\n",
        "\n"
      ],
      "metadata": {
        "colab": {
          "base_uri": "https://localhost:8080/",
          "height": 97
        },
        "id": "THSNZvqsNsFj",
        "outputId": "436b5071-b494-4692-d274-9cf8f64fe432"
      },
      "execution_count": null,
      "outputs": [
        {
          "output_type": "execute_result",
          "data": {
            "text/plain": [
              "MLPClassifier(early_stopping=True, hidden_layer_sizes=(256,), random_state=42,\n",
              "              validation_fraction=0.2)"
            ],
            "text/html": [
              "<style>#sk-container-id-2 {\n",
              "  /* Definition of color scheme common for light and dark mode */\n",
              "  --sklearn-color-text: #000;\n",
              "  --sklearn-color-text-muted: #666;\n",
              "  --sklearn-color-line: gray;\n",
              "  /* Definition of color scheme for unfitted estimators */\n",
              "  --sklearn-color-unfitted-level-0: #fff5e6;\n",
              "  --sklearn-color-unfitted-level-1: #f6e4d2;\n",
              "  --sklearn-color-unfitted-level-2: #ffe0b3;\n",
              "  --sklearn-color-unfitted-level-3: chocolate;\n",
              "  /* Definition of color scheme for fitted estimators */\n",
              "  --sklearn-color-fitted-level-0: #f0f8ff;\n",
              "  --sklearn-color-fitted-level-1: #d4ebff;\n",
              "  --sklearn-color-fitted-level-2: #b3dbfd;\n",
              "  --sklearn-color-fitted-level-3: cornflowerblue;\n",
              "\n",
              "  /* Specific color for light theme */\n",
              "  --sklearn-color-text-on-default-background: var(--sg-text-color, var(--theme-code-foreground, var(--jp-content-font-color1, black)));\n",
              "  --sklearn-color-background: var(--sg-background-color, var(--theme-background, var(--jp-layout-color0, white)));\n",
              "  --sklearn-color-border-box: var(--sg-text-color, var(--theme-code-foreground, var(--jp-content-font-color1, black)));\n",
              "  --sklearn-color-icon: #696969;\n",
              "\n",
              "  @media (prefers-color-scheme: dark) {\n",
              "    /* Redefinition of color scheme for dark theme */\n",
              "    --sklearn-color-text-on-default-background: var(--sg-text-color, var(--theme-code-foreground, var(--jp-content-font-color1, white)));\n",
              "    --sklearn-color-background: var(--sg-background-color, var(--theme-background, var(--jp-layout-color0, #111)));\n",
              "    --sklearn-color-border-box: var(--sg-text-color, var(--theme-code-foreground, var(--jp-content-font-color1, white)));\n",
              "    --sklearn-color-icon: #878787;\n",
              "  }\n",
              "}\n",
              "\n",
              "#sk-container-id-2 {\n",
              "  color: var(--sklearn-color-text);\n",
              "}\n",
              "\n",
              "#sk-container-id-2 pre {\n",
              "  padding: 0;\n",
              "}\n",
              "\n",
              "#sk-container-id-2 input.sk-hidden--visually {\n",
              "  border: 0;\n",
              "  clip: rect(1px 1px 1px 1px);\n",
              "  clip: rect(1px, 1px, 1px, 1px);\n",
              "  height: 1px;\n",
              "  margin: -1px;\n",
              "  overflow: hidden;\n",
              "  padding: 0;\n",
              "  position: absolute;\n",
              "  width: 1px;\n",
              "}\n",
              "\n",
              "#sk-container-id-2 div.sk-dashed-wrapped {\n",
              "  border: 1px dashed var(--sklearn-color-line);\n",
              "  margin: 0 0.4em 0.5em 0.4em;\n",
              "  box-sizing: border-box;\n",
              "  padding-bottom: 0.4em;\n",
              "  background-color: var(--sklearn-color-background);\n",
              "}\n",
              "\n",
              "#sk-container-id-2 div.sk-container {\n",
              "  /* jupyter's `normalize.less` sets `[hidden] { display: none; }`\n",
              "     but bootstrap.min.css set `[hidden] { display: none !important; }`\n",
              "     so we also need the `!important` here to be able to override the\n",
              "     default hidden behavior on the sphinx rendered scikit-learn.org.\n",
              "     See: https://github.com/scikit-learn/scikit-learn/issues/21755 */\n",
              "  display: inline-block !important;\n",
              "  position: relative;\n",
              "}\n",
              "\n",
              "#sk-container-id-2 div.sk-text-repr-fallback {\n",
              "  display: none;\n",
              "}\n",
              "\n",
              "div.sk-parallel-item,\n",
              "div.sk-serial,\n",
              "div.sk-item {\n",
              "  /* draw centered vertical line to link estimators */\n",
              "  background-image: linear-gradient(var(--sklearn-color-text-on-default-background), var(--sklearn-color-text-on-default-background));\n",
              "  background-size: 2px 100%;\n",
              "  background-repeat: no-repeat;\n",
              "  background-position: center center;\n",
              "}\n",
              "\n",
              "/* Parallel-specific style estimator block */\n",
              "\n",
              "#sk-container-id-2 div.sk-parallel-item::after {\n",
              "  content: \"\";\n",
              "  width: 100%;\n",
              "  border-bottom: 2px solid var(--sklearn-color-text-on-default-background);\n",
              "  flex-grow: 1;\n",
              "}\n",
              "\n",
              "#sk-container-id-2 div.sk-parallel {\n",
              "  display: flex;\n",
              "  align-items: stretch;\n",
              "  justify-content: center;\n",
              "  background-color: var(--sklearn-color-background);\n",
              "  position: relative;\n",
              "}\n",
              "\n",
              "#sk-container-id-2 div.sk-parallel-item {\n",
              "  display: flex;\n",
              "  flex-direction: column;\n",
              "}\n",
              "\n",
              "#sk-container-id-2 div.sk-parallel-item:first-child::after {\n",
              "  align-self: flex-end;\n",
              "  width: 50%;\n",
              "}\n",
              "\n",
              "#sk-container-id-2 div.sk-parallel-item:last-child::after {\n",
              "  align-self: flex-start;\n",
              "  width: 50%;\n",
              "}\n",
              "\n",
              "#sk-container-id-2 div.sk-parallel-item:only-child::after {\n",
              "  width: 0;\n",
              "}\n",
              "\n",
              "/* Serial-specific style estimator block */\n",
              "\n",
              "#sk-container-id-2 div.sk-serial {\n",
              "  display: flex;\n",
              "  flex-direction: column;\n",
              "  align-items: center;\n",
              "  background-color: var(--sklearn-color-background);\n",
              "  padding-right: 1em;\n",
              "  padding-left: 1em;\n",
              "}\n",
              "\n",
              "\n",
              "/* Toggleable style: style used for estimator/Pipeline/ColumnTransformer box that is\n",
              "clickable and can be expanded/collapsed.\n",
              "- Pipeline and ColumnTransformer use this feature and define the default style\n",
              "- Estimators will overwrite some part of the style using the `sk-estimator` class\n",
              "*/\n",
              "\n",
              "/* Pipeline and ColumnTransformer style (default) */\n",
              "\n",
              "#sk-container-id-2 div.sk-toggleable {\n",
              "  /* Default theme specific background. It is overwritten whether we have a\n",
              "  specific estimator or a Pipeline/ColumnTransformer */\n",
              "  background-color: var(--sklearn-color-background);\n",
              "}\n",
              "\n",
              "/* Toggleable label */\n",
              "#sk-container-id-2 label.sk-toggleable__label {\n",
              "  cursor: pointer;\n",
              "  display: flex;\n",
              "  width: 100%;\n",
              "  margin-bottom: 0;\n",
              "  padding: 0.5em;\n",
              "  box-sizing: border-box;\n",
              "  text-align: center;\n",
              "  align-items: start;\n",
              "  justify-content: space-between;\n",
              "  gap: 0.5em;\n",
              "}\n",
              "\n",
              "#sk-container-id-2 label.sk-toggleable__label .caption {\n",
              "  font-size: 0.6rem;\n",
              "  font-weight: lighter;\n",
              "  color: var(--sklearn-color-text-muted);\n",
              "}\n",
              "\n",
              "#sk-container-id-2 label.sk-toggleable__label-arrow:before {\n",
              "  /* Arrow on the left of the label */\n",
              "  content: \"▸\";\n",
              "  float: left;\n",
              "  margin-right: 0.25em;\n",
              "  color: var(--sklearn-color-icon);\n",
              "}\n",
              "\n",
              "#sk-container-id-2 label.sk-toggleable__label-arrow:hover:before {\n",
              "  color: var(--sklearn-color-text);\n",
              "}\n",
              "\n",
              "/* Toggleable content - dropdown */\n",
              "\n",
              "#sk-container-id-2 div.sk-toggleable__content {\n",
              "  max-height: 0;\n",
              "  max-width: 0;\n",
              "  overflow: hidden;\n",
              "  text-align: left;\n",
              "  /* unfitted */\n",
              "  background-color: var(--sklearn-color-unfitted-level-0);\n",
              "}\n",
              "\n",
              "#sk-container-id-2 div.sk-toggleable__content.fitted {\n",
              "  /* fitted */\n",
              "  background-color: var(--sklearn-color-fitted-level-0);\n",
              "}\n",
              "\n",
              "#sk-container-id-2 div.sk-toggleable__content pre {\n",
              "  margin: 0.2em;\n",
              "  border-radius: 0.25em;\n",
              "  color: var(--sklearn-color-text);\n",
              "  /* unfitted */\n",
              "  background-color: var(--sklearn-color-unfitted-level-0);\n",
              "}\n",
              "\n",
              "#sk-container-id-2 div.sk-toggleable__content.fitted pre {\n",
              "  /* unfitted */\n",
              "  background-color: var(--sklearn-color-fitted-level-0);\n",
              "}\n",
              "\n",
              "#sk-container-id-2 input.sk-toggleable__control:checked~div.sk-toggleable__content {\n",
              "  /* Expand drop-down */\n",
              "  max-height: 200px;\n",
              "  max-width: 100%;\n",
              "  overflow: auto;\n",
              "}\n",
              "\n",
              "#sk-container-id-2 input.sk-toggleable__control:checked~label.sk-toggleable__label-arrow:before {\n",
              "  content: \"▾\";\n",
              "}\n",
              "\n",
              "/* Pipeline/ColumnTransformer-specific style */\n",
              "\n",
              "#sk-container-id-2 div.sk-label input.sk-toggleable__control:checked~label.sk-toggleable__label {\n",
              "  color: var(--sklearn-color-text);\n",
              "  background-color: var(--sklearn-color-unfitted-level-2);\n",
              "}\n",
              "\n",
              "#sk-container-id-2 div.sk-label.fitted input.sk-toggleable__control:checked~label.sk-toggleable__label {\n",
              "  background-color: var(--sklearn-color-fitted-level-2);\n",
              "}\n",
              "\n",
              "/* Estimator-specific style */\n",
              "\n",
              "/* Colorize estimator box */\n",
              "#sk-container-id-2 div.sk-estimator input.sk-toggleable__control:checked~label.sk-toggleable__label {\n",
              "  /* unfitted */\n",
              "  background-color: var(--sklearn-color-unfitted-level-2);\n",
              "}\n",
              "\n",
              "#sk-container-id-2 div.sk-estimator.fitted input.sk-toggleable__control:checked~label.sk-toggleable__label {\n",
              "  /* fitted */\n",
              "  background-color: var(--sklearn-color-fitted-level-2);\n",
              "}\n",
              "\n",
              "#sk-container-id-2 div.sk-label label.sk-toggleable__label,\n",
              "#sk-container-id-2 div.sk-label label {\n",
              "  /* The background is the default theme color */\n",
              "  color: var(--sklearn-color-text-on-default-background);\n",
              "}\n",
              "\n",
              "/* On hover, darken the color of the background */\n",
              "#sk-container-id-2 div.sk-label:hover label.sk-toggleable__label {\n",
              "  color: var(--sklearn-color-text);\n",
              "  background-color: var(--sklearn-color-unfitted-level-2);\n",
              "}\n",
              "\n",
              "/* Label box, darken color on hover, fitted */\n",
              "#sk-container-id-2 div.sk-label.fitted:hover label.sk-toggleable__label.fitted {\n",
              "  color: var(--sklearn-color-text);\n",
              "  background-color: var(--sklearn-color-fitted-level-2);\n",
              "}\n",
              "\n",
              "/* Estimator label */\n",
              "\n",
              "#sk-container-id-2 div.sk-label label {\n",
              "  font-family: monospace;\n",
              "  font-weight: bold;\n",
              "  display: inline-block;\n",
              "  line-height: 1.2em;\n",
              "}\n",
              "\n",
              "#sk-container-id-2 div.sk-label-container {\n",
              "  text-align: center;\n",
              "}\n",
              "\n",
              "/* Estimator-specific */\n",
              "#sk-container-id-2 div.sk-estimator {\n",
              "  font-family: monospace;\n",
              "  border: 1px dotted var(--sklearn-color-border-box);\n",
              "  border-radius: 0.25em;\n",
              "  box-sizing: border-box;\n",
              "  margin-bottom: 0.5em;\n",
              "  /* unfitted */\n",
              "  background-color: var(--sklearn-color-unfitted-level-0);\n",
              "}\n",
              "\n",
              "#sk-container-id-2 div.sk-estimator.fitted {\n",
              "  /* fitted */\n",
              "  background-color: var(--sklearn-color-fitted-level-0);\n",
              "}\n",
              "\n",
              "/* on hover */\n",
              "#sk-container-id-2 div.sk-estimator:hover {\n",
              "  /* unfitted */\n",
              "  background-color: var(--sklearn-color-unfitted-level-2);\n",
              "}\n",
              "\n",
              "#sk-container-id-2 div.sk-estimator.fitted:hover {\n",
              "  /* fitted */\n",
              "  background-color: var(--sklearn-color-fitted-level-2);\n",
              "}\n",
              "\n",
              "/* Specification for estimator info (e.g. \"i\" and \"?\") */\n",
              "\n",
              "/* Common style for \"i\" and \"?\" */\n",
              "\n",
              ".sk-estimator-doc-link,\n",
              "a:link.sk-estimator-doc-link,\n",
              "a:visited.sk-estimator-doc-link {\n",
              "  float: right;\n",
              "  font-size: smaller;\n",
              "  line-height: 1em;\n",
              "  font-family: monospace;\n",
              "  background-color: var(--sklearn-color-background);\n",
              "  border-radius: 1em;\n",
              "  height: 1em;\n",
              "  width: 1em;\n",
              "  text-decoration: none !important;\n",
              "  margin-left: 0.5em;\n",
              "  text-align: center;\n",
              "  /* unfitted */\n",
              "  border: var(--sklearn-color-unfitted-level-1) 1pt solid;\n",
              "  color: var(--sklearn-color-unfitted-level-1);\n",
              "}\n",
              "\n",
              ".sk-estimator-doc-link.fitted,\n",
              "a:link.sk-estimator-doc-link.fitted,\n",
              "a:visited.sk-estimator-doc-link.fitted {\n",
              "  /* fitted */\n",
              "  border: var(--sklearn-color-fitted-level-1) 1pt solid;\n",
              "  color: var(--sklearn-color-fitted-level-1);\n",
              "}\n",
              "\n",
              "/* On hover */\n",
              "div.sk-estimator:hover .sk-estimator-doc-link:hover,\n",
              ".sk-estimator-doc-link:hover,\n",
              "div.sk-label-container:hover .sk-estimator-doc-link:hover,\n",
              ".sk-estimator-doc-link:hover {\n",
              "  /* unfitted */\n",
              "  background-color: var(--sklearn-color-unfitted-level-3);\n",
              "  color: var(--sklearn-color-background);\n",
              "  text-decoration: none;\n",
              "}\n",
              "\n",
              "div.sk-estimator.fitted:hover .sk-estimator-doc-link.fitted:hover,\n",
              ".sk-estimator-doc-link.fitted:hover,\n",
              "div.sk-label-container:hover .sk-estimator-doc-link.fitted:hover,\n",
              ".sk-estimator-doc-link.fitted:hover {\n",
              "  /* fitted */\n",
              "  background-color: var(--sklearn-color-fitted-level-3);\n",
              "  color: var(--sklearn-color-background);\n",
              "  text-decoration: none;\n",
              "}\n",
              "\n",
              "/* Span, style for the box shown on hovering the info icon */\n",
              ".sk-estimator-doc-link span {\n",
              "  display: none;\n",
              "  z-index: 9999;\n",
              "  position: relative;\n",
              "  font-weight: normal;\n",
              "  right: .2ex;\n",
              "  padding: .5ex;\n",
              "  margin: .5ex;\n",
              "  width: min-content;\n",
              "  min-width: 20ex;\n",
              "  max-width: 50ex;\n",
              "  color: var(--sklearn-color-text);\n",
              "  box-shadow: 2pt 2pt 4pt #999;\n",
              "  /* unfitted */\n",
              "  background: var(--sklearn-color-unfitted-level-0);\n",
              "  border: .5pt solid var(--sklearn-color-unfitted-level-3);\n",
              "}\n",
              "\n",
              ".sk-estimator-doc-link.fitted span {\n",
              "  /* fitted */\n",
              "  background: var(--sklearn-color-fitted-level-0);\n",
              "  border: var(--sklearn-color-fitted-level-3);\n",
              "}\n",
              "\n",
              ".sk-estimator-doc-link:hover span {\n",
              "  display: block;\n",
              "}\n",
              "\n",
              "/* \"?\"-specific style due to the `<a>` HTML tag */\n",
              "\n",
              "#sk-container-id-2 a.estimator_doc_link {\n",
              "  float: right;\n",
              "  font-size: 1rem;\n",
              "  line-height: 1em;\n",
              "  font-family: monospace;\n",
              "  background-color: var(--sklearn-color-background);\n",
              "  border-radius: 1rem;\n",
              "  height: 1rem;\n",
              "  width: 1rem;\n",
              "  text-decoration: none;\n",
              "  /* unfitted */\n",
              "  color: var(--sklearn-color-unfitted-level-1);\n",
              "  border: var(--sklearn-color-unfitted-level-1) 1pt solid;\n",
              "}\n",
              "\n",
              "#sk-container-id-2 a.estimator_doc_link.fitted {\n",
              "  /* fitted */\n",
              "  border: var(--sklearn-color-fitted-level-1) 1pt solid;\n",
              "  color: var(--sklearn-color-fitted-level-1);\n",
              "}\n",
              "\n",
              "/* On hover */\n",
              "#sk-container-id-2 a.estimator_doc_link:hover {\n",
              "  /* unfitted */\n",
              "  background-color: var(--sklearn-color-unfitted-level-3);\n",
              "  color: var(--sklearn-color-background);\n",
              "  text-decoration: none;\n",
              "}\n",
              "\n",
              "#sk-container-id-2 a.estimator_doc_link.fitted:hover {\n",
              "  /* fitted */\n",
              "  background-color: var(--sklearn-color-fitted-level-3);\n",
              "}\n",
              "</style><div id=\"sk-container-id-2\" class=\"sk-top-container\"><div class=\"sk-text-repr-fallback\"><pre>MLPClassifier(early_stopping=True, hidden_layer_sizes=(256,), random_state=42,\n",
              "              validation_fraction=0.2)</pre><b>In a Jupyter environment, please rerun this cell to show the HTML representation or trust the notebook. <br />On GitHub, the HTML representation is unable to render, please try loading this page with nbviewer.org.</b></div><div class=\"sk-container\" hidden><div class=\"sk-item\"><div class=\"sk-estimator fitted sk-toggleable\"><input class=\"sk-toggleable__control sk-hidden--visually\" id=\"sk-estimator-id-2\" type=\"checkbox\" checked><label for=\"sk-estimator-id-2\" class=\"sk-toggleable__label fitted sk-toggleable__label-arrow\"><div><div>MLPClassifier</div></div><div><a class=\"sk-estimator-doc-link fitted\" rel=\"noreferrer\" target=\"_blank\" href=\"https://scikit-learn.org/1.6/modules/generated/sklearn.neural_network.MLPClassifier.html\">?<span>Documentation for MLPClassifier</span></a><span class=\"sk-estimator-doc-link fitted\">i<span>Fitted</span></span></div></label><div class=\"sk-toggleable__content fitted\"><pre>MLPClassifier(early_stopping=True, hidden_layer_sizes=(256,), random_state=42,\n",
              "              validation_fraction=0.2)</pre></div> </div></div></div></div>"
            ]
          },
          "metadata": {},
          "execution_count": 10
        }
      ]
    },
    {
      "cell_type": "code",
      "source": [
        "print(\"Actual number of epochs run:\", mlp.n_iter_)"
      ],
      "metadata": {
        "colab": {
          "base_uri": "https://localhost:8080/"
        },
        "id": "oJychwGeVmTc",
        "outputId": "83c48415-99b3-4004-8359-abe49767fad2"
      },
      "execution_count": null,
      "outputs": [
        {
          "output_type": "stream",
          "name": "stdout",
          "text": [
            "Actual number of epochs run: 117\n"
          ]
        }
      ]
    },
    {
      "cell_type": "code",
      "source": [
        "from sklearn.model_selection import GridSearchCV\n",
        "from sklearn.neural_network import MLPClassifier\n",
        "from sklearn.multiclass import OneVsRestClassifier\n",
        "\n",
        "param_grid = {\n",
        "    'hidden_layer_sizes': [(256,), (512,), (256, 128), (512, 256)],\n",
        "    'activation': ['relu', 'tanh'],\n",
        "    'alpha': [1e-4, 1e-3, 1e-2],\n",
        "    'learning_rate_init': [0.001, 0.005],\n",
        "}\n",
        "\n",
        "mlp = MLPClassifier(max_iter=117, random_state=42)\n",
        "\n",
        "clf = GridSearchCV(mlp, param_grid, scoring='f1_micro', cv=3, verbose=2, n_jobs=-1)\n",
        "clf.fit(X_train_emb, y_train)\n",
        "\n",
        "print(\"Best params:\", clf.best_params_)\n"
      ],
      "metadata": {
        "colab": {
          "base_uri": "https://localhost:8080/",
          "height": 397
        },
        "id": "rOsMRnsATEWX",
        "outputId": "caac920a-b789-4a43-8d6a-9895f46ded6c"
      },
      "execution_count": null,
      "outputs": [
        {
          "output_type": "stream",
          "name": "stdout",
          "text": [
            "Fitting 3 folds for each of 48 candidates, totalling 144 fits\n"
          ]
        },
        {
          "output_type": "error",
          "ename": "KeyboardInterrupt",
          "evalue": "",
          "traceback": [
            "\u001b[0;31m---------------------------------------------------------------------------\u001b[0m",
            "\u001b[0;31mKeyboardInterrupt\u001b[0m                         Traceback (most recent call last)",
            "\u001b[0;32m/tmp/ipython-input-12-778852614.py\u001b[0m in \u001b[0;36m<cell line: 0>\u001b[0;34m()\u001b[0m\n\u001b[1;32m     13\u001b[0m \u001b[0;34m\u001b[0m\u001b[0m\n\u001b[1;32m     14\u001b[0m \u001b[0mclf\u001b[0m \u001b[0;34m=\u001b[0m \u001b[0mGridSearchCV\u001b[0m\u001b[0;34m(\u001b[0m\u001b[0mmlp\u001b[0m\u001b[0;34m,\u001b[0m \u001b[0mparam_grid\u001b[0m\u001b[0;34m,\u001b[0m \u001b[0mscoring\u001b[0m\u001b[0;34m=\u001b[0m\u001b[0;34m'f1_micro'\u001b[0m\u001b[0;34m,\u001b[0m \u001b[0mcv\u001b[0m\u001b[0;34m=\u001b[0m\u001b[0;36m3\u001b[0m\u001b[0;34m,\u001b[0m \u001b[0mverbose\u001b[0m\u001b[0;34m=\u001b[0m\u001b[0;36m2\u001b[0m\u001b[0;34m,\u001b[0m \u001b[0mn_jobs\u001b[0m\u001b[0;34m=\u001b[0m\u001b[0;34m-\u001b[0m\u001b[0;36m1\u001b[0m\u001b[0;34m)\u001b[0m\u001b[0;34m\u001b[0m\u001b[0;34m\u001b[0m\u001b[0m\n\u001b[0;32m---> 15\u001b[0;31m \u001b[0mclf\u001b[0m\u001b[0;34m.\u001b[0m\u001b[0mfit\u001b[0m\u001b[0;34m(\u001b[0m\u001b[0mX_train_emb\u001b[0m\u001b[0;34m,\u001b[0m \u001b[0my_train\u001b[0m\u001b[0;34m)\u001b[0m\u001b[0;34m\u001b[0m\u001b[0;34m\u001b[0m\u001b[0m\n\u001b[0m\u001b[1;32m     16\u001b[0m \u001b[0;34m\u001b[0m\u001b[0m\n\u001b[1;32m     17\u001b[0m \u001b[0mprint\u001b[0m\u001b[0;34m(\u001b[0m\u001b[0;34m\"Best params:\"\u001b[0m\u001b[0;34m,\u001b[0m \u001b[0mclf\u001b[0m\u001b[0;34m.\u001b[0m\u001b[0mbest_params_\u001b[0m\u001b[0;34m)\u001b[0m\u001b[0;34m\u001b[0m\u001b[0;34m\u001b[0m\u001b[0m\n",
            "\u001b[0;32m/usr/local/lib/python3.11/dist-packages/sklearn/base.py\u001b[0m in \u001b[0;36mwrapper\u001b[0;34m(estimator, *args, **kwargs)\u001b[0m\n\u001b[1;32m   1387\u001b[0m                 )\n\u001b[1;32m   1388\u001b[0m             ):\n\u001b[0;32m-> 1389\u001b[0;31m                 \u001b[0;32mreturn\u001b[0m \u001b[0mfit_method\u001b[0m\u001b[0;34m(\u001b[0m\u001b[0mestimator\u001b[0m\u001b[0;34m,\u001b[0m \u001b[0;34m*\u001b[0m\u001b[0margs\u001b[0m\u001b[0;34m,\u001b[0m \u001b[0;34m**\u001b[0m\u001b[0mkwargs\u001b[0m\u001b[0;34m)\u001b[0m\u001b[0;34m\u001b[0m\u001b[0;34m\u001b[0m\u001b[0m\n\u001b[0m\u001b[1;32m   1390\u001b[0m \u001b[0;34m\u001b[0m\u001b[0m\n\u001b[1;32m   1391\u001b[0m         \u001b[0;32mreturn\u001b[0m \u001b[0mwrapper\u001b[0m\u001b[0;34m\u001b[0m\u001b[0;34m\u001b[0m\u001b[0m\n",
            "\u001b[0;32m/usr/local/lib/python3.11/dist-packages/sklearn/model_selection/_search.py\u001b[0m in \u001b[0;36mfit\u001b[0;34m(self, X, y, **params)\u001b[0m\n\u001b[1;32m   1022\u001b[0m                 \u001b[0;32mreturn\u001b[0m \u001b[0mresults\u001b[0m\u001b[0;34m\u001b[0m\u001b[0;34m\u001b[0m\u001b[0m\n\u001b[1;32m   1023\u001b[0m \u001b[0;34m\u001b[0m\u001b[0m\n\u001b[0;32m-> 1024\u001b[0;31m             \u001b[0mself\u001b[0m\u001b[0;34m.\u001b[0m\u001b[0m_run_search\u001b[0m\u001b[0;34m(\u001b[0m\u001b[0mevaluate_candidates\u001b[0m\u001b[0;34m)\u001b[0m\u001b[0;34m\u001b[0m\u001b[0;34m\u001b[0m\u001b[0m\n\u001b[0m\u001b[1;32m   1025\u001b[0m \u001b[0;34m\u001b[0m\u001b[0m\n\u001b[1;32m   1026\u001b[0m             \u001b[0;31m# multimetric is determined here because in the case of a callable\u001b[0m\u001b[0;34m\u001b[0m\u001b[0;34m\u001b[0m\u001b[0m\n",
            "\u001b[0;32m/usr/local/lib/python3.11/dist-packages/sklearn/model_selection/_search.py\u001b[0m in \u001b[0;36m_run_search\u001b[0;34m(self, evaluate_candidates)\u001b[0m\n\u001b[1;32m   1569\u001b[0m     \u001b[0;32mdef\u001b[0m \u001b[0m_run_search\u001b[0m\u001b[0;34m(\u001b[0m\u001b[0mself\u001b[0m\u001b[0;34m,\u001b[0m \u001b[0mevaluate_candidates\u001b[0m\u001b[0;34m)\u001b[0m\u001b[0;34m:\u001b[0m\u001b[0;34m\u001b[0m\u001b[0;34m\u001b[0m\u001b[0m\n\u001b[1;32m   1570\u001b[0m         \u001b[0;34m\"\"\"Search all candidates in param_grid\"\"\"\u001b[0m\u001b[0;34m\u001b[0m\u001b[0;34m\u001b[0m\u001b[0m\n\u001b[0;32m-> 1571\u001b[0;31m         \u001b[0mevaluate_candidates\u001b[0m\u001b[0;34m(\u001b[0m\u001b[0mParameterGrid\u001b[0m\u001b[0;34m(\u001b[0m\u001b[0mself\u001b[0m\u001b[0;34m.\u001b[0m\u001b[0mparam_grid\u001b[0m\u001b[0;34m)\u001b[0m\u001b[0;34m)\u001b[0m\u001b[0;34m\u001b[0m\u001b[0;34m\u001b[0m\u001b[0m\n\u001b[0m\u001b[1;32m   1572\u001b[0m \u001b[0;34m\u001b[0m\u001b[0m\n\u001b[1;32m   1573\u001b[0m \u001b[0;34m\u001b[0m\u001b[0m\n",
            "\u001b[0;32m/usr/local/lib/python3.11/dist-packages/sklearn/model_selection/_search.py\u001b[0m in \u001b[0;36mevaluate_candidates\u001b[0;34m(candidate_params, cv, more_results)\u001b[0m\n\u001b[1;32m    968\u001b[0m                     )\n\u001b[1;32m    969\u001b[0m \u001b[0;34m\u001b[0m\u001b[0m\n\u001b[0;32m--> 970\u001b[0;31m                 out = parallel(\n\u001b[0m\u001b[1;32m    971\u001b[0m                     delayed(_fit_and_score)(\n\u001b[1;32m    972\u001b[0m                         \u001b[0mclone\u001b[0m\u001b[0;34m(\u001b[0m\u001b[0mbase_estimator\u001b[0m\u001b[0;34m)\u001b[0m\u001b[0;34m,\u001b[0m\u001b[0;34m\u001b[0m\u001b[0;34m\u001b[0m\u001b[0m\n",
            "\u001b[0;32m/usr/local/lib/python3.11/dist-packages/sklearn/utils/parallel.py\u001b[0m in \u001b[0;36m__call__\u001b[0;34m(self, iterable)\u001b[0m\n\u001b[1;32m     75\u001b[0m             \u001b[0;32mfor\u001b[0m \u001b[0mdelayed_func\u001b[0m\u001b[0;34m,\u001b[0m \u001b[0margs\u001b[0m\u001b[0;34m,\u001b[0m \u001b[0mkwargs\u001b[0m \u001b[0;32min\u001b[0m \u001b[0miterable\u001b[0m\u001b[0;34m\u001b[0m\u001b[0;34m\u001b[0m\u001b[0m\n\u001b[1;32m     76\u001b[0m         )\n\u001b[0;32m---> 77\u001b[0;31m         \u001b[0;32mreturn\u001b[0m \u001b[0msuper\u001b[0m\u001b[0;34m(\u001b[0m\u001b[0;34m)\u001b[0m\u001b[0;34m.\u001b[0m\u001b[0m__call__\u001b[0m\u001b[0;34m(\u001b[0m\u001b[0miterable_with_config\u001b[0m\u001b[0;34m)\u001b[0m\u001b[0;34m\u001b[0m\u001b[0;34m\u001b[0m\u001b[0m\n\u001b[0m\u001b[1;32m     78\u001b[0m \u001b[0;34m\u001b[0m\u001b[0m\n\u001b[1;32m     79\u001b[0m \u001b[0;34m\u001b[0m\u001b[0m\n",
            "\u001b[0;32m/usr/local/lib/python3.11/dist-packages/joblib/parallel.py\u001b[0m in \u001b[0;36m__call__\u001b[0;34m(self, iterable)\u001b[0m\n\u001b[1;32m   2070\u001b[0m         \u001b[0mnext\u001b[0m\u001b[0;34m(\u001b[0m\u001b[0moutput\u001b[0m\u001b[0;34m)\u001b[0m\u001b[0;34m\u001b[0m\u001b[0;34m\u001b[0m\u001b[0m\n\u001b[1;32m   2071\u001b[0m \u001b[0;34m\u001b[0m\u001b[0m\n\u001b[0;32m-> 2072\u001b[0;31m         \u001b[0;32mreturn\u001b[0m \u001b[0moutput\u001b[0m \u001b[0;32mif\u001b[0m \u001b[0mself\u001b[0m\u001b[0;34m.\u001b[0m\u001b[0mreturn_generator\u001b[0m \u001b[0;32melse\u001b[0m \u001b[0mlist\u001b[0m\u001b[0;34m(\u001b[0m\u001b[0moutput\u001b[0m\u001b[0;34m)\u001b[0m\u001b[0;34m\u001b[0m\u001b[0;34m\u001b[0m\u001b[0m\n\u001b[0m\u001b[1;32m   2073\u001b[0m \u001b[0;34m\u001b[0m\u001b[0m\n\u001b[1;32m   2074\u001b[0m     \u001b[0;32mdef\u001b[0m \u001b[0m__repr__\u001b[0m\u001b[0;34m(\u001b[0m\u001b[0mself\u001b[0m\u001b[0;34m)\u001b[0m\u001b[0;34m:\u001b[0m\u001b[0;34m\u001b[0m\u001b[0;34m\u001b[0m\u001b[0m\n",
            "\u001b[0;32m/usr/local/lib/python3.11/dist-packages/joblib/parallel.py\u001b[0m in \u001b[0;36m_get_outputs\u001b[0;34m(self, iterator, pre_dispatch)\u001b[0m\n\u001b[1;32m   1680\u001b[0m \u001b[0;34m\u001b[0m\u001b[0m\n\u001b[1;32m   1681\u001b[0m             \u001b[0;32mwith\u001b[0m \u001b[0mself\u001b[0m\u001b[0;34m.\u001b[0m\u001b[0m_backend\u001b[0m\u001b[0;34m.\u001b[0m\u001b[0mretrieval_context\u001b[0m\u001b[0;34m(\u001b[0m\u001b[0;34m)\u001b[0m\u001b[0;34m:\u001b[0m\u001b[0;34m\u001b[0m\u001b[0;34m\u001b[0m\u001b[0m\n\u001b[0;32m-> 1682\u001b[0;31m                 \u001b[0;32myield\u001b[0m \u001b[0;32mfrom\u001b[0m \u001b[0mself\u001b[0m\u001b[0;34m.\u001b[0m\u001b[0m_retrieve\u001b[0m\u001b[0;34m(\u001b[0m\u001b[0;34m)\u001b[0m\u001b[0;34m\u001b[0m\u001b[0;34m\u001b[0m\u001b[0m\n\u001b[0m\u001b[1;32m   1683\u001b[0m \u001b[0;34m\u001b[0m\u001b[0m\n\u001b[1;32m   1684\u001b[0m         \u001b[0;32mexcept\u001b[0m \u001b[0mGeneratorExit\u001b[0m\u001b[0;34m:\u001b[0m\u001b[0;34m\u001b[0m\u001b[0;34m\u001b[0m\u001b[0m\n",
            "\u001b[0;32m/usr/local/lib/python3.11/dist-packages/joblib/parallel.py\u001b[0m in \u001b[0;36m_retrieve\u001b[0;34m(self)\u001b[0m\n\u001b[1;32m   1798\u001b[0m                     \u001b[0mself\u001b[0m\u001b[0;34m.\u001b[0m\u001b[0m_jobs\u001b[0m\u001b[0;34m[\u001b[0m\u001b[0;36m0\u001b[0m\u001b[0;34m]\u001b[0m\u001b[0;34m.\u001b[0m\u001b[0mget_status\u001b[0m\u001b[0;34m(\u001b[0m\u001b[0mtimeout\u001b[0m\u001b[0;34m=\u001b[0m\u001b[0mself\u001b[0m\u001b[0;34m.\u001b[0m\u001b[0mtimeout\u001b[0m\u001b[0;34m)\u001b[0m \u001b[0;34m==\u001b[0m \u001b[0mTASK_PENDING\u001b[0m\u001b[0;34m\u001b[0m\u001b[0;34m\u001b[0m\u001b[0m\n\u001b[1;32m   1799\u001b[0m                 ):\n\u001b[0;32m-> 1800\u001b[0;31m                     \u001b[0mtime\u001b[0m\u001b[0;34m.\u001b[0m\u001b[0msleep\u001b[0m\u001b[0;34m(\u001b[0m\u001b[0;36m0.01\u001b[0m\u001b[0;34m)\u001b[0m\u001b[0;34m\u001b[0m\u001b[0;34m\u001b[0m\u001b[0m\n\u001b[0m\u001b[1;32m   1801\u001b[0m                     \u001b[0;32mcontinue\u001b[0m\u001b[0;34m\u001b[0m\u001b[0;34m\u001b[0m\u001b[0m\n\u001b[1;32m   1802\u001b[0m \u001b[0;34m\u001b[0m\u001b[0m\n",
            "\u001b[0;31mKeyboardInterrupt\u001b[0m: "
          ]
        }
      ]
    },
    {
      "cell_type": "code",
      "source": [
        "y_pred2 = clf.predict(X_test_emb)\n",
        "\n",
        "print(\"🔹 Micro F1-score:\", f1_score(y_test, y_pred2, average='micro'))\n",
        "print(\"🔹 Macro F1-score:\", f1_score(y_test, y_pred2, average='macro'))"
      ],
      "metadata": {
        "colab": {
          "base_uri": "https://localhost:8080/"
        },
        "id": "z7m5zIrsUSl2",
        "outputId": "7845fb1a-93d1-4169-b4d2-bf2e57cda99b"
      },
      "execution_count": null,
      "outputs": [
        {
          "output_type": "stream",
          "name": "stdout",
          "text": [
            "🔹 Micro F1-score: 0.8729685051203332\n",
            "🔹 Macro F1-score: 0.752739214860455\n"
          ]
        },
        {
          "output_type": "stream",
          "name": "stderr",
          "text": [
            "/usr/local/lib/python3.11/dist-packages/sklearn/metrics/_classification.py:1565: UndefinedMetricWarning: F-score is ill-defined and being set to 0.0 in labels with no true nor predicted samples. Use `zero_division` parameter to control this behavior.\n",
            "  _warn_prf(average, modifier, f\"{metric.capitalize()} is\", len(result))\n"
          ]
        }
      ]
    },
    {
      "cell_type": "code",
      "source": [
        "# ✅ 5. MLPClassifier 훈련\n",
        "mlp = MLPClassifier(hidden_layer_sizes=(512, 256),activation='relu', alpha=0.0001, learning_rate_init = 0.001, max_iter=117, random_state=42, verbose=True)\n",
        "mlp.fit(X_train_emb, y_train)\n",
        "\n",
        "# ✅ 6. 예측 및 평가\n",
        "y_pred = mlp.predict(X_test_emb)\n",
        "\n",
        "print(\"🔹 Micro F1-score:\", f1_score(y_test, y_pred, average='micro'))\n",
        "print(\"🔹 Macro F1-score:\", f1_score(y_test, y_pred, average='macro'))"
      ],
      "metadata": {
        "colab": {
          "base_uri": "https://localhost:8080/"
        },
        "id": "8PdXeWdsXMZh",
        "outputId": "db1efd60-4bcd-4c4d-a343-7d2ac1f384f3"
      },
      "execution_count": null,
      "outputs": [
        {
          "output_type": "stream",
          "name": "stdout",
          "text": [
            "Iteration 1, loss = 3.87127261\n",
            "Iteration 2, loss = 2.59759588\n",
            "Iteration 3, loss = 2.17573028\n",
            "Iteration 4, loss = 1.89407905\n",
            "Iteration 5, loss = 1.68789093\n",
            "Iteration 6, loss = 1.53053647\n",
            "Iteration 7, loss = 1.41128002\n",
            "Iteration 8, loss = 1.30944390\n",
            "Iteration 9, loss = 1.23041889\n",
            "Iteration 10, loss = 1.15517779\n",
            "Iteration 11, loss = 1.09966978\n",
            "Iteration 12, loss = 1.04698339\n",
            "Iteration 13, loss = 1.00162377\n",
            "Iteration 14, loss = 0.96292152\n",
            "Iteration 15, loss = 0.92638696\n",
            "Iteration 16, loss = 0.89280439\n",
            "Iteration 17, loss = 0.86477473\n",
            "Iteration 18, loss = 0.83703260\n",
            "Iteration 19, loss = 0.80816827\n",
            "Iteration 20, loss = 0.78749639\n",
            "Iteration 21, loss = 0.76448120\n",
            "Iteration 22, loss = 0.74506143\n",
            "Iteration 23, loss = 0.72544187\n",
            "Iteration 24, loss = 0.70943939\n",
            "Iteration 25, loss = 0.68949085\n",
            "Iteration 26, loss = 0.67744809\n",
            "Iteration 27, loss = 0.66005905\n",
            "Iteration 28, loss = 0.64651671\n",
            "Iteration 29, loss = 0.63240169\n",
            "Iteration 30, loss = 0.62195572\n",
            "Iteration 31, loss = 0.60505587\n",
            "Iteration 32, loss = 0.59245282\n",
            "Iteration 33, loss = 0.58102716\n",
            "Iteration 34, loss = 0.56908685\n",
            "Iteration 35, loss = 0.56211392\n",
            "Iteration 36, loss = 0.55264413\n",
            "Iteration 37, loss = 0.54199499\n",
            "Iteration 38, loss = 0.53019878\n",
            "Iteration 39, loss = 0.52319793\n",
            "Iteration 40, loss = 0.51215763\n",
            "Iteration 41, loss = 0.50396965\n",
            "Iteration 42, loss = 0.49512290\n",
            "Iteration 43, loss = 0.48877992\n",
            "Iteration 44, loss = 0.48166749\n",
            "Iteration 45, loss = 0.47516855\n",
            "Iteration 46, loss = 0.46650032\n",
            "Iteration 47, loss = 0.45797860\n",
            "Iteration 48, loss = 0.45224715\n",
            "Iteration 49, loss = 0.44713393\n",
            "Iteration 50, loss = 0.43860239\n",
            "Iteration 51, loss = 0.43374102\n",
            "Iteration 52, loss = 0.42980419\n",
            "Iteration 53, loss = 0.42141113\n",
            "Iteration 54, loss = 0.41425698\n",
            "Iteration 55, loss = 0.40981125\n",
            "Iteration 56, loss = 0.40634582\n",
            "Iteration 57, loss = 0.39883431\n",
            "Iteration 58, loss = 0.39462456\n",
            "Iteration 59, loss = 0.38370468\n",
            "Iteration 60, loss = 0.38790266\n",
            "Iteration 61, loss = 0.37821679\n",
            "Iteration 62, loss = 0.37793419\n",
            "Iteration 63, loss = 0.37025673\n",
            "Iteration 64, loss = 0.36665622\n",
            "Iteration 65, loss = 0.36253863\n",
            "Iteration 66, loss = 0.35831668\n",
            "Iteration 67, loss = 0.35407986\n",
            "Iteration 68, loss = 0.34727277\n",
            "Iteration 69, loss = 0.34667052\n",
            "Iteration 70, loss = 0.34218812\n",
            "Iteration 71, loss = 0.33692247\n",
            "Iteration 72, loss = 0.33388182\n",
            "Iteration 73, loss = 0.33283229\n",
            "Iteration 74, loss = 0.32451733\n",
            "Iteration 75, loss = 0.32550852\n",
            "Iteration 76, loss = 0.31893614\n",
            "Iteration 77, loss = 0.31580745\n",
            "Iteration 78, loss = 0.31128292\n",
            "Iteration 79, loss = 0.31023308\n",
            "Iteration 80, loss = 0.30737718\n",
            "Iteration 81, loss = 0.30260342\n",
            "Iteration 82, loss = 0.29750713\n",
            "Iteration 83, loss = 0.29624002\n",
            "Iteration 84, loss = 0.29540629\n",
            "Iteration 85, loss = 0.29111644\n",
            "Iteration 86, loss = 0.28931751\n",
            "Iteration 87, loss = 0.28541047\n",
            "Iteration 88, loss = 0.28718493\n",
            "Iteration 89, loss = 0.28173987\n",
            "Iteration 90, loss = 0.27623042\n",
            "Iteration 91, loss = 0.28026847\n",
            "Iteration 92, loss = 0.26981459\n",
            "Iteration 93, loss = 0.26767343\n",
            "Iteration 94, loss = 0.26888348\n",
            "Iteration 95, loss = 0.26607480\n",
            "Iteration 96, loss = 0.26331957\n",
            "Iteration 97, loss = 0.26354038\n",
            "Iteration 98, loss = 0.25885380\n",
            "Iteration 99, loss = 0.25917706\n",
            "Iteration 100, loss = 0.25141023\n",
            "Iteration 101, loss = 0.25309889\n",
            "Iteration 102, loss = 0.24675149\n",
            "Iteration 103, loss = 0.24884901\n",
            "Iteration 104, loss = 0.24629515\n",
            "Iteration 105, loss = 0.24634040\n",
            "Iteration 106, loss = 0.24015974\n",
            "Iteration 107, loss = 0.24239983\n",
            "Iteration 108, loss = 0.23481835\n",
            "Iteration 109, loss = 0.23572381\n",
            "Iteration 110, loss = 0.23329240\n",
            "Iteration 111, loss = 0.23065513\n",
            "Iteration 112, loss = 0.23346516\n",
            "Iteration 113, loss = 0.22822024\n",
            "Iteration 114, loss = 0.22180951\n",
            "Iteration 115, loss = 0.22635065\n",
            "Iteration 116, loss = 0.22146321\n",
            "Iteration 117, loss = 0.22177474\n"
          ]
        },
        {
          "output_type": "stream",
          "name": "stderr",
          "text": [
            "/usr/local/lib/python3.11/dist-packages/sklearn/neural_network/_multilayer_perceptron.py:691: ConvergenceWarning: Stochastic Optimizer: Maximum iterations (117) reached and the optimization hasn't converged yet.\n",
            "  warnings.warn(\n"
          ]
        },
        {
          "output_type": "stream",
          "name": "stdout",
          "text": [
            "🔹 Micro F1-score: 0.8856928620524464\n",
            "🔹 Macro F1-score: 0.7731769393002432\n"
          ]
        },
        {
          "output_type": "stream",
          "name": "stderr",
          "text": [
            "/usr/local/lib/python3.11/dist-packages/sklearn/metrics/_classification.py:1565: UndefinedMetricWarning: F-score is ill-defined and being set to 0.0 in labels with no true nor predicted samples. Use `zero_division` parameter to control this behavior.\n",
            "  _warn_prf(average, modifier, f\"{metric.capitalize()} is\", len(result))\n"
          ]
        }
      ]
    },
    {
      "cell_type": "code",
      "source": [
        "f1_micro_full = f1_score(y_test, y_pred, average='micro')\n",
        "f1_macro_full = f1_score(y_test, y_pred, average='macro')\n"
      ],
      "metadata": {
        "id": "-m_3T-eYXpCE"
      },
      "execution_count": null,
      "outputs": []
    },
    {
      "cell_type": "code",
      "source": [
        "f1_micro_full =0.8856928620524464\n",
        "f1_macro_full = 0.7731769393002432"
      ],
      "metadata": {
        "id": "f8LzCIfZUbxt"
      },
      "execution_count": null,
      "outputs": []
    },
    {
      "cell_type": "code",
      "source": [
        "# Train MLPClassifier\n",
        "mlp = MLPClassifier(hidden_layer_sizes=(512, 256), activation='relu', alpha=0.0001,\n",
        "                    learning_rate_init=0.001, max_iter=117, random_state=42, verbose=True)\n",
        "mlp.fit(X_train_emb, y_train)\n",
        "\n",
        "# Predict and Evaluate (All Classes)\n",
        "y_pred = mlp.predict(X_test_emb)\n",
        "\n",
        "print(\"🔹 Micro F1-score:\", f1_score(y_test, y_pred, average='micro'))\n",
        "print(\"🔹 Macro F1-score:\", f1_score(y_test, y_pred, average='macro'))\n",
        "\n",
        "#ㅡㅡㅡㅡㅡㅡㅡㅡㅡㅡㅡㅡㅡㅡㅡㅡㅡㅡㅡㅡㅡㅡㅡㅡㅡㅡㅡㅡㅡㅡㅡㅡㅡㅡ#\n",
        "\n",
        "# Calculate class frequencies and define rare classes\n",
        "class_counts = y_train.sum(axis=0)\n",
        "class_ratios = class_counts / y_train.shape[0]\n",
        "rare_classes = np.where(class_counts < 100)[0]\n",
        "\n",
        "# Remove rare classes (drop corresponding columns)\n",
        "y_train_filtered = np.delete(y_train, rare_classes, axis=1)\n",
        "y_test_filtered  = np.delete(y_test,  rare_classes, axis=1)\n",
        "\n",
        "# Remove samples with all-zero labels (train set)\n",
        "train_valid_idx = y_train_filtered.sum(axis=1) > 0\n",
        "X_train_filtered = X_train_emb[train_valid_idx]\n",
        "y_train_filtered = y_train_filtered[train_valid_idx]\n",
        "\n",
        "# Remove samples with all-zero labels (test set)\n",
        "test_valid_idx = y_test_filtered.sum(axis=1) > 0\n",
        "X_test_filtered = X_test_emb[test_valid_idx]\n",
        "y_test_filtered = y_test_filtered[test_valid_idx]\n",
        "\n",
        "# Retrain MLPClassifier on filtered data\n",
        "mlp = MLPClassifier(hidden_layer_sizes=(512, 256), activation='relu', alpha=0.0001,\n",
        "                    learning_rate_init=0.001, max_iter=117, random_state=42, verbose=True)\n",
        "mlp.fit(X_train_filtered, y_train_filtered)\n",
        "\n",
        "# Predict and Evaluate (Filtered Classes)\n",
        "y_pred2 = mlp.predict(X_test_filtered)\n",
        "\n",
        "print(\"🔹 Micro F1-score:\", f1_score(y_test_filtered, y_pred2, average='micro'))\n",
        "print(\"🔹 Macro F1-score:\", f1_score(y_test_filtered, y_pred2, average='macro'))\n"
      ],
      "metadata": {
        "id": "IVjgzItXYvLd"
      },
      "execution_count": null,
      "outputs": []
    },
    {
      "cell_type": "code",
      "source": [],
      "metadata": {
        "id": "pRJR068wY58U"
      },
      "execution_count": null,
      "outputs": []
    },
    {
      "cell_type": "code",
      "source": [
        "# ✅ 2. 클래스별 비율 계산 및 희귀 클래스 정의\n",
        "class_counts = y_train.sum(axis=0)\n",
        "class_ratios = class_counts / y_train.shape[0]\n",
        "rare_classes = np.where(class_counts < 100)[0]\n",
        "\n",
        "# ✅ 3. 희귀 클래스 제거 (column 제거)\n",
        "y_train_filtered = np.delete(y_train, rare_classes, axis=1)\n",
        "y_test_filtered  = np.delete(y_test,  rare_classes, axis=1)\n",
        "\n",
        "# ✅ 4. 모든 라벨이 0인 샘플 제거 (train 기준)\n",
        "train_valid_idx = y_train_filtered.sum(axis=1) > 0\n",
        "X_train_filtered = X_train_emb[train_valid_idx]\n",
        "y_train_filtered = y_train_filtered[train_valid_idx]\n",
        "\n",
        "# ✅ 5. test에서도 모든 라벨이 0인 샘플 제거\n",
        "test_valid_idx = y_test_filtered.sum(axis=1) > 0\n",
        "X_test_filtered = X_test_emb[test_valid_idx]\n",
        "y_test_filtered = y_test_filtered[test_valid_idx]\n",
        "\n",
        "# ✅ 6. 최종 확인\n",
        "print(\"X_train_filtered:\", X_train_filtered.shape)\n",
        "print(\"y_train_filtered:\", y_train_filtered.shape)\n",
        "print(\"X_test_filtered:\", X_test_filtered.shape)\n",
        "print(\"y_test_filtered:\", y_test_filtered.shape)"
      ],
      "metadata": {
        "colab": {
          "base_uri": "https://localhost:8080/"
        },
        "id": "3yd9-ZF2GpKP",
        "outputId": "c03910cf-eded-40ff-89b5-bbf2bffd38d4"
      },
      "execution_count": null,
      "outputs": [
        {
          "output_type": "stream",
          "name": "stdout",
          "text": [
            "X_train_filtered: (186768, 320)\n",
            "y_train_filtered: (186768, 58)\n",
            "X_test_filtered: (46699, 320)\n",
            "y_test_filtered: (46699, 58)\n"
          ]
        }
      ]
    },
    {
      "cell_type": "code",
      "source": [
        "# ✅ 5. MLPClassifier 훈련\n",
        "mlp = MLPClassifier(hidden_layer_sizes=(512, 256),activation='relu', alpha=0.0001, learning_rate_init = 0.001, max_iter=117, random_state=42, verbose=True)\n",
        "mlp.fit(X_train_filtered, y_train_filtered)\n",
        "\n",
        "# ✅ 6. 예측 및 평가\n",
        "y_pred2 = mlp.predict(X_test_filtered)\n",
        "\n",
        "print(\"🔹 Micro F1-score:\", f1_score(y_test_filtered, y_pred2, average='micro'))\n",
        "print(\"🔹 Macro F1-score:\", f1_score(y_test_filtered, y_pred2, average='macro'))"
      ],
      "metadata": {
        "colab": {
          "base_uri": "https://localhost:8080/"
        },
        "id": "g6JermNKHAon",
        "outputId": "13af72d2-2765-435c-fa01-07247950a346"
      },
      "execution_count": null,
      "outputs": [
        {
          "output_type": "stream",
          "name": "stdout",
          "text": [
            "Iteration 1, loss = 3.68709745\n",
            "Iteration 2, loss = 2.52112979\n",
            "Iteration 3, loss = 2.11839287\n",
            "Iteration 4, loss = 1.85319909\n",
            "Iteration 5, loss = 1.66631092\n",
            "Iteration 6, loss = 1.51325527\n",
            "Iteration 7, loss = 1.40482208\n",
            "Iteration 8, loss = 1.30891463\n",
            "Iteration 9, loss = 1.22637339\n",
            "Iteration 10, loss = 1.16413538\n",
            "Iteration 11, loss = 1.10589013\n",
            "Iteration 12, loss = 1.05547861\n",
            "Iteration 13, loss = 1.01340337\n",
            "Iteration 14, loss = 0.97763812\n",
            "Iteration 15, loss = 0.94095454\n",
            "Iteration 16, loss = 0.90650914\n",
            "Iteration 17, loss = 0.87932238\n",
            "Iteration 18, loss = 0.85211067\n",
            "Iteration 19, loss = 0.82640623\n",
            "Iteration 20, loss = 0.80324320\n",
            "Iteration 21, loss = 0.78076574\n",
            "Iteration 22, loss = 0.76209817\n",
            "Iteration 23, loss = 0.74033952\n",
            "Iteration 24, loss = 0.72422497\n",
            "Iteration 25, loss = 0.70800514\n",
            "Iteration 26, loss = 0.68988865\n",
            "Iteration 27, loss = 0.67792680\n",
            "Iteration 28, loss = 0.66577899\n",
            "Iteration 29, loss = 0.64759864\n",
            "Iteration 30, loss = 0.63572334\n",
            "Iteration 31, loss = 0.62280852\n",
            "Iteration 32, loss = 0.61105271\n",
            "Iteration 33, loss = 0.59807572\n",
            "Iteration 34, loss = 0.58976191\n",
            "Iteration 35, loss = 0.57883840\n",
            "Iteration 36, loss = 0.56755500\n",
            "Iteration 37, loss = 0.56274479\n",
            "Iteration 38, loss = 0.54754049\n",
            "Iteration 39, loss = 0.54117612\n",
            "Iteration 40, loss = 0.53099070\n",
            "Iteration 41, loss = 0.52204772\n",
            "Iteration 42, loss = 0.51515234\n",
            "Iteration 43, loss = 0.50631333\n",
            "Iteration 44, loss = 0.50146364\n",
            "Iteration 45, loss = 0.49091291\n",
            "Iteration 46, loss = 0.48695458\n",
            "Iteration 47, loss = 0.47834705\n",
            "Iteration 48, loss = 0.47033701\n",
            "Iteration 49, loss = 0.46411605\n",
            "Iteration 50, loss = 0.45927139\n",
            "Iteration 51, loss = 0.45075628\n",
            "Iteration 52, loss = 0.44662964\n",
            "Iteration 53, loss = 0.43981863\n",
            "Iteration 54, loss = 0.43486037\n",
            "Iteration 55, loss = 0.42913925\n",
            "Iteration 56, loss = 0.42426835\n",
            "Iteration 57, loss = 0.41757373\n",
            "Iteration 58, loss = 0.41374599\n",
            "Iteration 59, loss = 0.41048083\n",
            "Iteration 60, loss = 0.40409098\n",
            "Iteration 61, loss = 0.39630466\n",
            "Iteration 62, loss = 0.39385866\n",
            "Iteration 63, loss = 0.38865691\n",
            "Iteration 64, loss = 0.38555936\n",
            "Iteration 65, loss = 0.37890170\n",
            "Iteration 66, loss = 0.37621383\n",
            "Iteration 67, loss = 0.37086116\n",
            "Iteration 68, loss = 0.37058901\n",
            "Iteration 69, loss = 0.36285441\n",
            "Iteration 70, loss = 0.35793434\n",
            "Iteration 71, loss = 0.35625110\n",
            "Iteration 72, loss = 0.35039834\n",
            "Iteration 73, loss = 0.34941526\n",
            "Iteration 74, loss = 0.35012388\n",
            "Iteration 75, loss = 0.34174026\n",
            "Iteration 76, loss = 0.33708355\n",
            "Iteration 77, loss = 0.33569090\n",
            "Iteration 78, loss = 0.32903224\n",
            "Iteration 79, loss = 0.32768384\n",
            "Iteration 80, loss = 0.32779945\n",
            "Iteration 81, loss = 0.32398840\n",
            "Iteration 82, loss = 0.32225477\n",
            "Iteration 83, loss = 0.31385730\n",
            "Iteration 84, loss = 0.31224377\n",
            "Iteration 85, loss = 0.31092667\n",
            "Iteration 86, loss = 0.30569694\n",
            "Iteration 87, loss = 0.30651263\n",
            "Iteration 88, loss = 0.30221067\n",
            "Iteration 89, loss = 0.29526522\n",
            "Iteration 90, loss = 0.29520902\n",
            "Iteration 91, loss = 0.29370231\n",
            "Iteration 92, loss = 0.29511265\n",
            "Iteration 93, loss = 0.28787328\n",
            "Iteration 94, loss = 0.28616099\n",
            "Iteration 95, loss = 0.28375536\n",
            "Iteration 96, loss = 0.28285324\n",
            "Iteration 97, loss = 0.27946444\n",
            "Iteration 98, loss = 0.27402172\n",
            "Iteration 99, loss = 0.27504654\n",
            "Iteration 100, loss = 0.26933025\n",
            "Iteration 101, loss = 0.27154708\n",
            "Iteration 102, loss = 0.26831327\n",
            "Iteration 103, loss = 0.26700923\n",
            "Iteration 104, loss = 0.26375307\n",
            "Iteration 105, loss = 0.25824413\n",
            "Iteration 106, loss = 0.25898673\n",
            "Iteration 107, loss = 0.25869675\n",
            "Iteration 108, loss = 0.25461721\n",
            "Iteration 109, loss = 0.25235540\n",
            "Iteration 110, loss = 0.25042319\n",
            "Iteration 111, loss = 0.24588771\n",
            "Iteration 112, loss = 0.25046943\n",
            "Iteration 113, loss = 0.24319463\n",
            "Iteration 114, loss = 0.24106524\n",
            "Iteration 115, loss = 0.24670458\n",
            "Iteration 116, loss = 0.23990271\n",
            "Iteration 117, loss = 0.23778503\n"
          ]
        },
        {
          "output_type": "stream",
          "name": "stderr",
          "text": [
            "/usr/local/lib/python3.11/dist-packages/sklearn/neural_network/_multilayer_perceptron.py:691: ConvergenceWarning: Stochastic Optimizer: Maximum iterations (117) reached and the optimization hasn't converged yet.\n",
            "  warnings.warn(\n"
          ]
        },
        {
          "output_type": "stream",
          "name": "stdout",
          "text": [
            "🔹 Micro F1-score: 0.8835597012573662\n",
            "🔹 Macro F1-score: 0.8481420392350699\n"
          ]
        }
      ]
    },
    {
      "cell_type": "code",
      "source": [
        "import numpy as np\n",
        "import matplotlib.pyplot as plt\n",
        "\n",
        "# ✅ Data\n",
        "labels = ['Micro F1', 'Macro F1']\n",
        "full_scores = [0.74, 0.66]\n",
        "\n",
        "# ✅ 더 간격이 좁고 예쁘게\n",
        "x = np.arange(len(labels))  # [0, 1]\n",
        "width = 0.6  # 더 넓은 막대 폭\n",
        "\n",
        "fig, ax = plt.subplots(figsize=(5, 4))\n",
        "rects = ax.bar(x, full_scores, width=width, color='skyblue')\n",
        "\n",
        "# ✅ 축 설정\n",
        "ax.set_ylabel('F1 Score')\n",
        "ax.set_ylim(0, 1.1)\n",
        "ax.set_title('F1-scores (Before Tuning)')\n",
        "ax.set_xticks(x)\n",
        "ax.set_xticklabels(labels)\n",
        "ax.legend(loc='upper center')\n",
        "\n",
        "# ✅ 값 레이블 추가\n",
        "def autolabel(rects):\n",
        "    for rect in rects:\n",
        "        height = rect.get_height()\n",
        "        ax.annotate(f'{height:.2f}',\n",
        "                    xy=(rect.get_x() + rect.get_width() / 2, height),\n",
        "                    xytext=(0, 3),\n",
        "                    textcoords=\"offset points\",\n",
        "                    ha='center', va='bottom')\n",
        "\n",
        "autolabel(rects)\n",
        "\n",
        "plt.tight_layout()\n",
        "plt.show()\n"
      ],
      "metadata": {
        "colab": {
          "base_uri": "https://localhost:8080/",
          "height": 464
        },
        "id": "SXdzz_Z9nDx_",
        "outputId": "5445d3e3-b930-44b0-aefd-602a281b390c"
      },
      "execution_count": null,
      "outputs": [
        {
          "output_type": "stream",
          "name": "stderr",
          "text": [
            "/tmp/ipython-input-10-4162216878.py:21: UserWarning: No artists with labels found to put in legend.  Note that artists whose label start with an underscore are ignored when legend() is called with no argument.\n",
            "  ax.legend(loc='upper center')\n"
          ]
        },
        {
          "output_type": "display_data",
          "data": {
            "text/plain": [
              "<Figure size 500x400 with 1 Axes>"
            ],
            "image/png": "[encoded data removed]"
          },
          "metadata": {}
        }
      ]
    },
    {
      "cell_type": "code",
      "source": [
        "import numpy as np\n",
        "import matplotlib.pyplot as plt\n",
        "\n",
        "# Data\n",
        "labels = ['Micro F1', 'Macro F1']\n",
        "scores = [0.8857, 0.7732]\n",
        "\n",
        "# 좌우 벽에서 떨어뜨리기 위해 위치 조정\n",
        "x = np.arange(len(labels)) + 10  # 살짝 오른쪽 이동\n",
        "width = 0.3\n",
        "\n",
        "fig, ax = plt.subplots(figsize=(2.5, 5))\n",
        "rects = ax.bar(x, scores, width=width, color='skyblue', label='Tuned MLP')\n",
        "\n",
        "# 축 설정\n",
        "ax.set_ylabel('F1 Score')\n",
        "ax.set_ylim(0, 1.1)\n",
        "ax.set_title('F1-scores (After Tuning)', fontsize=12)\n",
        "ax.set_xticks(x)\n",
        "ax.set_xticklabels(labels)\n",
        "ax.legend(loc='upper center', fontsize=9)\n",
        "\n",
        "# 막대 위 숫자 라벨\n",
        "def autolabel(rects):\n",
        "    for rect in rects:\n",
        "        height = rect.get_height()\n",
        "        ax.annotate(f'{height:.2f}',\n",
        "                    xy=(rect.get_x() + rect.get_width() / 2, height),\n",
        "                    xytext=(0, 5),\n",
        "                    textcoords=\"offset points\",\n",
        "                    ha='center', va='bottom')\n",
        "\n",
        "autolabel(rects)\n",
        "plt.tight_layout()\n",
        "plt.show()\n"
      ],
      "metadata": {
        "colab": {
          "base_uri": "https://localhost:8080/",
          "height": 507
        },
        "id": "6mLFiPD6KTsm",
        "outputId": "892d5504-e9ab-45da-cc34-9e1914d6cba4"
      },
      "execution_count": null,
      "outputs": [
        {
          "output_type": "display_data",
          "data": {
            "text/plain": [
              "<Figure size 250x500 with 1 Axes>"
            ],
            "image/png": "[encoded data removed]"
          },
          "metadata": {}
        }
      ]
    },
    {
      "cell_type": "code",
      "source": [
        "f1_micro_remove = f1_score(y_test_filtered, y_pred2, average='micro')\n",
        "f1_macro_remove = f1_score(y_test_filtered, y_pred2, average='macro')"
      ],
      "metadata": {
        "id": "VAbN2fJAX-rl"
      },
      "execution_count": null,
      "outputs": []
    },
    {
      "cell_type": "code",
      "source": [
        "import matplotlib.pyplot as plt\n",
        "import numpy as np"
      ],
      "metadata": {
        "id": "YmvqbHoiXlu7"
      },
      "execution_count": null,
      "outputs": []
    },
    {
      "cell_type": "code",
      "source": [
        "# ✅ Bar chart data\n",
        "labels = ['Micro F1', 'Macro F1']\n",
        "full_scores = [f1_micro_full, f1_macro_full]\n",
        "filtered_scores = [f1_micro_remove, f1_macro_remove]\n",
        "\n",
        "x = np.arange(len(labels))  # [0, 1]\n",
        "width = 0.35  # bar width\n",
        "\n",
        "# ✅ Plotting\n",
        "fig, ax = plt.subplots(figsize=(6, 4))\n",
        "rects1 = ax.bar(x - width/2, full_scores, width, label='All Classes')\n",
        "rects2 = ax.bar(x + width/2, filtered_scores, width, label='Rare Classes Removed')\n",
        "\n",
        "# ✅ Labels and title\n",
        "ax.set_ylabel('F1 Score')\n",
        "ax.set_ylim(0, 1.1)\n",
        "ax.set_title('Comparison of Micro/Macro F1-scores by Model')\n",
        "ax.set_xticks(x)\n",
        "ax.set_xticklabels(labels)\n",
        "ax.legend()\n",
        "\n",
        "# ✅ Add value labels on top of bars\n",
        "def autolabel(rects):\n",
        "    for rect in rects:\n",
        "        height = rect.get_height()\n",
        "        ax.annotate(f'{height:.2f}',\n",
        "                    xy=(rect.get_x() + rect.get_width() / 2, height),\n",
        "                    xytext=(0, 3),  # 3pt above bar\n",
        "                    textcoords=\"offset points\",\n",
        "                    ha='center', va='bottom')\n",
        "\n",
        "autolabel(rects1)\n",
        "autolabel(rects2)\n",
        "\n",
        "plt.tight_layout()\n",
        "plt.show()"
      ],
      "metadata": {
        "colab": {
          "base_uri": "https://localhost:8080/",
          "height": 407
        },
        "id": "HH-l5ow8Lpjd",
        "outputId": "faf6f5bd-4d05-44a6-f018-71d67082c688"
      },
      "execution_count": null,
      "outputs": [
        {
          "output_type": "display_data",
          "data": {
            "text/plain": [
              "<Figure size 600x400 with 1 Axes>"
            ],
            "image/png": "[encoded data removed]"
          },
          "metadata": {}
        }
      ]
    },
    {
      "cell_type": "code",
      "source": [
        "esm_2_f1_micro =0.83\n",
        "esm_2_f1_macro = 0.74\n",
        "rf_f1_micro = 0.68\n",
        "rf_f1_macro = 0.49\n",
        "mlp_f1_micro =0.89\n",
        "mlp_f1_macro = 0.77"
      ],
      "metadata": {
        "id": "mQajp0mXixiO"
      },
      "execution_count": null,
      "outputs": []
    },
    {
      "cell_type": "code",
      "source": [
        "import numpy as np\n",
        "import matplotlib.pyplot as plt\n",
        "\n",
        "# ✅ F1 Scores\n",
        "models = ['ESM-2', 'Random Forest', 'MLP']\n",
        "micro_scores = [0.83, 0.68, 0.89]\n",
        "macro_scores = [0.74, 0.49, 0.77]\n",
        "\n",
        "x = np.arange(len(models))  # [0, 1, 2]\n",
        "width = 0.35\n",
        "\n",
        "fig, ax = plt.subplots(figsize=(7, 5))\n",
        "\n",
        "# ✅ Left: Micro F1\n",
        "rects1 = ax.bar(x - width/2, micro_scores, width, label='Micro F1', color='lightcoral')\n",
        "\n",
        "# ✅ Right: Macro F1\n",
        "rects2 = ax.bar(x + width/2, macro_scores, width, label='Macro F1', color='skyblue')\n",
        "\n",
        "# ✅ Axis setup\n",
        "ax.set_ylabel('F1 Score')\n",
        "ax.set_title('Micro vs. Macro F1-score Comparison by Model')\n",
        "ax.set_xticks(x)\n",
        "ax.set_xticklabels(models)\n",
        "ax.set_ylim(0, 1.1)\n",
        "ax.legend(loc='upper left')\n",
        "\n",
        "# ✅ Add value labels on bars\n",
        "def autolabel(rects):\n",
        "    for rect in rects:\n",
        "        height = rect.get_height()\n",
        "        ax.annotate(f'{height:.2f}',\n",
        "                    xy=(rect.get_x() + rect.get_width()/2, height),\n",
        "                    xytext=(0, 3),\n",
        "                    textcoords=\"offset points\",\n",
        "                    ha='center', va='bottom')\n",
        "\n",
        "autolabel(rects1)\n",
        "autolabel(rects2)\n",
        "\n",
        "plt.tight_layout()\n",
        "plt.show()\n"
      ],
      "metadata": {
        "colab": {
          "base_uri": "https://localhost:8080/",
          "height": 507
        },
        "id": "li7sV-IiNe7T",
        "outputId": "3cf3fab3-ac5f-4617-aa40-25a911d8db27"
      },
      "execution_count": null,
      "outputs": [
        {
          "output_type": "display_data",
          "data": {
            "text/plain": [
              "<Figure size 700x500 with 1 Axes>"
            ],
            "image/png": "[encoded data removed]"
          },
          "metadata": {}
        }
      ]
    },
    {
      "cell_type": "code",
      "source": [],
      "metadata": {
        "id": "fbG8IHKVNe4h"
      },
      "execution_count": null,
      "outputs": []
    }
  ],
  "metadata": {
    "accelerator": "TPU",
    "colab": {
      "gpuType": "V6E1",
      "machine_shape": "hm",
      "provenance": []
    },
    "kernelspec": {
      "display_name": "Python 3",
      "name": "python3"
    },
    "language_info": {
      "name": "python"
    }
  },
  "nbformat": 4,
  "nbformat_minor": 0
}